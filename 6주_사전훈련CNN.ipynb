{
 "cells": [
  {
   "cell_type": "code",
   "execution_count": 1,
   "metadata": {},
   "outputs": [
    {
     "name": "stdout",
     "output_type": "stream",
     "text": [
      "Downloading data from https://storage.googleapis.com/tensorflow/keras-applications/vgg16/vgg16_weights_tf_dim_ordering_tf_kernels_notop.h5\n",
      "58892288/58889256 [==============================] - 1s 0us/step\n"
     ]
    }
   ],
   "source": [
    "#강아지와 고양이 이미지에서 유용한 특성 추출\n",
    "from keras.applications import VGG16\n",
    "#include_top : 완전연결분류기를 포함할지\n",
    "conv_base = VGG16(weights='imagenet',\n",
    "                  include_top=False,\n",
    "                  input_shape=(150, 150, 3))"
   ]
  },
  {
   "cell_type": "code",
   "execution_count": 2,
   "metadata": {},
   "outputs": [
    {
     "name": "stdout",
     "output_type": "stream",
     "text": [
      "Model: \"vgg16\"\n",
      "_________________________________________________________________\n",
      "Layer (type)                 Output Shape              Param #   \n",
      "=================================================================\n",
      "input_1 (InputLayer)         [(None, 150, 150, 3)]     0         \n",
      "_________________________________________________________________\n",
      "block1_conv1 (Conv2D)        (None, 150, 150, 64)      1792      \n",
      "_________________________________________________________________\n",
      "block1_conv2 (Conv2D)        (None, 150, 150, 64)      36928     \n",
      "_________________________________________________________________\n",
      "block1_pool (MaxPooling2D)   (None, 75, 75, 64)        0         \n",
      "_________________________________________________________________\n",
      "block2_conv1 (Conv2D)        (None, 75, 75, 128)       73856     \n",
      "_________________________________________________________________\n",
      "block2_conv2 (Conv2D)        (None, 75, 75, 128)       147584    \n",
      "_________________________________________________________________\n",
      "block2_pool (MaxPooling2D)   (None, 37, 37, 128)       0         \n",
      "_________________________________________________________________\n",
      "block3_conv1 (Conv2D)        (None, 37, 37, 256)       295168    \n",
      "_________________________________________________________________\n",
      "block3_conv2 (Conv2D)        (None, 37, 37, 256)       590080    \n",
      "_________________________________________________________________\n",
      "block3_conv3 (Conv2D)        (None, 37, 37, 256)       590080    \n",
      "_________________________________________________________________\n",
      "block3_pool (MaxPooling2D)   (None, 18, 18, 256)       0         \n",
      "_________________________________________________________________\n",
      "block4_conv1 (Conv2D)        (None, 18, 18, 512)       1180160   \n",
      "_________________________________________________________________\n",
      "block4_conv2 (Conv2D)        (None, 18, 18, 512)       2359808   \n",
      "_________________________________________________________________\n",
      "block4_conv3 (Conv2D)        (None, 18, 18, 512)       2359808   \n",
      "_________________________________________________________________\n",
      "block4_pool (MaxPooling2D)   (None, 9, 9, 512)         0         \n",
      "_________________________________________________________________\n",
      "block5_conv1 (Conv2D)        (None, 9, 9, 512)         2359808   \n",
      "_________________________________________________________________\n",
      "block5_conv2 (Conv2D)        (None, 9, 9, 512)         2359808   \n",
      "_________________________________________________________________\n",
      "block5_conv3 (Conv2D)        (None, 9, 9, 512)         2359808   \n",
      "_________________________________________________________________\n",
      "block5_pool (MaxPooling2D)   (None, 4, 4, 512)         0         \n",
      "=================================================================\n",
      "Total params: 14,714,688\n",
      "Trainable params: 14,714,688\n",
      "Non-trainable params: 0\n",
      "_________________________________________________________________\n"
     ]
    }
   ],
   "source": [
    "conv_base.summary()"
   ]
  },
  {
   "cell_type": "code",
   "execution_count": 5,
   "metadata": {},
   "outputs": [
    {
     "name": "stdout",
     "output_type": "stream",
     "text": [
      "Found 2000 images belonging to 2 classes.\n",
      "Found 1000 images belonging to 2 classes.\n",
      "Found 1000 images belonging to 2 classes.\n"
     ]
    }
   ],
   "source": [
    "#데이터증식을 사용하지 않는 빠른 특성추출\n",
    "import os\n",
    "import numpy as np\n",
    "from keras.preprocessing.image import ImageDataGenerator\n",
    "\n",
    "base_dir = 'C:/Users/Woody/Desktop/train'\n",
    "\n",
    "#훈련,검증용 디렉토리 생성\n",
    "train_dir = os.path.join(base_dir, 'train')\n",
    "validation_dir = os.path.join(base_dir, 'validation')\n",
    "test_dir = os.path.join(base_dir, 'test')\n",
    "\n",
    "#이미지와 레이블을 넘파이배열로 추출\n",
    "datagen = ImageDataGenerator(rescale=1./255)\n",
    "batch_size = 20\n",
    "\n",
    "#사전훈련된 합성곱 기반층 사용\n",
    "def extract_features(directory, sample_count):\n",
    "    features = np.zeros(shape=(sample_count, 4, 4, 512))\n",
    "    labels = np.zeros(shape=(sample_count))\n",
    "    generator = datagen.flow_from_directory(\n",
    "        directory,\n",
    "        target_size=(150, 150),\n",
    "        batch_size=batch_size,\n",
    "        class_mode='binary')\n",
    "    i = 0\n",
    "    for inputs_batch, labels_batch in generator:\n",
    "        features_batch = conv_base.predict(inputs_batch)\n",
    "        features[i * batch_size : (i + 1) * batch_size] = features_batch\n",
    "        labels[i * batch_size : (i + 1) * batch_size] = labels_batch\n",
    "        i += 1\n",
    "        if i * batch_size >= sample_count:\n",
    "            # 제너레이터는 루프 안에서 무한하게 데이터를 생성, 중지필요\n",
    "            break\n",
    "    return features, labels\n",
    "\n",
    "train_features, train_labels = extract_features(train_dir, 2000)\n",
    "validation_features, validation_labels = extract_features(validation_dir, 1000)\n",
    "test_features, test_labels = extract_features(test_dir, 1000)"
   ]
  },
  {
   "cell_type": "code",
   "execution_count": 6,
   "metadata": {},
   "outputs": [],
   "source": [
    "train_features = np.reshape(train_features, (2000, 4 * 4 * 512))\n",
    "validation_features = np.reshape(validation_features, (1000, 4 * 4 * 512))\n",
    "test_features = np.reshape(test_features, (1000, 4 * 4 * 512))"
   ]
  },
  {
   "cell_type": "code",
   "execution_count": 7,
   "metadata": {},
   "outputs": [
    {
     "name": "stdout",
     "output_type": "stream",
     "text": [
      "Epoch 1/30\n",
      "100/100 [==============================] - 4s 29ms/step - loss: 0.6581 - acc: 0.6304 - val_loss: 0.4314 - val_acc: 0.8320\n",
      "Epoch 2/30\n",
      "100/100 [==============================] - 3s 26ms/step - loss: 0.4457 - acc: 0.7998 - val_loss: 0.3616 - val_acc: 0.8540\n",
      "Epoch 3/30\n",
      "100/100 [==============================] - 3s 33ms/step - loss: 0.3718 - acc: 0.8382 - val_loss: 0.3307 - val_acc: 0.8620\n",
      "Epoch 4/30\n",
      "100/100 [==============================] - 4s 38ms/step - loss: 0.3241 - acc: 0.8581 - val_loss: 0.3054 - val_acc: 0.8720\n",
      "Epoch 5/30\n",
      "100/100 [==============================] - 4s 37ms/step - loss: 0.3058 - acc: 0.8723 - val_loss: 0.2797 - val_acc: 0.8950\n",
      "Epoch 6/30\n",
      "100/100 [==============================] - 3s 32ms/step - loss: 0.2698 - acc: 0.8901 - val_loss: 0.2693 - val_acc: 0.8970\n",
      "Epoch 7/30\n",
      "100/100 [==============================] - 3s 33ms/step - loss: 0.2513 - acc: 0.9064 - val_loss: 0.2637 - val_acc: 0.9020\n",
      "Epoch 8/30\n",
      "100/100 [==============================] - 3s 29ms/step - loss: 0.2359 - acc: 0.9008 - val_loss: 0.2668 - val_acc: 0.8850\n",
      "Epoch 9/30\n",
      "100/100 [==============================] - 3s 31ms/step - loss: 0.2216 - acc: 0.9138 - val_loss: 0.2515 - val_acc: 0.9000\n",
      "Epoch 10/30\n",
      "100/100 [==============================] - 3s 30ms/step - loss: 0.1928 - acc: 0.9328 - val_loss: 0.2501 - val_acc: 0.8960\n",
      "Epoch 11/30\n",
      "100/100 [==============================] - 4s 37ms/step - loss: 0.1819 - acc: 0.9328 - val_loss: 0.2432 - val_acc: 0.9080: 0s - loss: 0.1802 - ac\n",
      "Epoch 12/30\n",
      "100/100 [==============================] - 3s 34ms/step - loss: 0.1920 - acc: 0.9319 - val_loss: 0.2408 - val_acc: 0.9070\n",
      "Epoch 13/30\n",
      "100/100 [==============================] - 4s 39ms/step - loss: 0.1774 - acc: 0.9344 - val_loss: 0.2429 - val_acc: 0.8980\n",
      "Epoch 14/30\n",
      "100/100 [==============================] - 3s 27ms/step - loss: 0.1716 - acc: 0.9366 - val_loss: 0.2406 - val_acc: 0.9000\n",
      "Epoch 15/30\n",
      "100/100 [==============================] - 3s 28ms/step - loss: 0.1497 - acc: 0.9464 - val_loss: 0.2374 - val_acc: 0.9040\n",
      "Epoch 16/30\n",
      "100/100 [==============================] - 3s 30ms/step - loss: 0.1691 - acc: 0.9365 - val_loss: 0.2355 - val_acc: 0.9080\n",
      "Epoch 17/30\n",
      "100/100 [==============================] - 3s 28ms/step - loss: 0.1431 - acc: 0.9489 - val_loss: 0.2373 - val_acc: 0.9020\n",
      "Epoch 18/30\n",
      "100/100 [==============================] - 4s 38ms/step - loss: 0.1377 - acc: 0.9612 - val_loss: 0.2372 - val_acc: 0.9030\n",
      "Epoch 19/30\n",
      "100/100 [==============================] - 4s 40ms/step - loss: 0.1379 - acc: 0.9551 - val_loss: 0.2379 - val_acc: 0.9000\n",
      "Epoch 20/30\n",
      "100/100 [==============================] - 4s 39ms/step - loss: 0.1349 - acc: 0.9545 - val_loss: 0.2406 - val_acc: 0.9000\n",
      "Epoch 21/30\n",
      "100/100 [==============================] - 4s 39ms/step - loss: 0.1357 - acc: 0.9551 - val_loss: 0.2340 - val_acc: 0.9050\n",
      "Epoch 22/30\n",
      "100/100 [==============================] - 4s 37ms/step - loss: 0.1170 - acc: 0.9620 - val_loss: 0.2315 - val_acc: 0.9040\n",
      "Epoch 23/30\n",
      "100/100 [==============================] - 3s 35ms/step - loss: 0.1186 - acc: 0.9544 - val_loss: 0.2350 - val_acc: 0.9020\n",
      "Epoch 24/30\n",
      "100/100 [==============================] - 4s 36ms/step - loss: 0.1044 - acc: 0.9688 - val_loss: 0.2356 - val_acc: 0.9020\n",
      "Epoch 25/30\n",
      "100/100 [==============================] - 4s 38ms/step - loss: 0.0920 - acc: 0.9738 - val_loss: 0.2380 - val_acc: 0.9020\n",
      "Epoch 26/30\n",
      "100/100 [==============================] - 3s 32ms/step - loss: 0.1048 - acc: 0.9657 - val_loss: 0.2605 - val_acc: 0.8870\n",
      "Epoch 27/30\n",
      "100/100 [==============================] - 3s 29ms/step - loss: 0.1117 - acc: 0.9647 - val_loss: 0.2403 - val_acc: 0.9000\n",
      "Epoch 28/30\n",
      "100/100 [==============================] - 3s 27ms/step - loss: 0.0959 - acc: 0.9729 - val_loss: 0.2362 - val_acc: 0.9020\n",
      "Epoch 29/30\n",
      "100/100 [==============================] - 3s 25ms/step - loss: 0.0936 - acc: 0.9769 - val_loss: 0.2366 - val_acc: 0.9050\n",
      "Epoch 30/30\n",
      "100/100 [==============================] - 3s 31ms/step - loss: 0.0842 - acc: 0.9762 - val_loss: 0.2386 - val_acc: 0.8980\n"
     ]
    }
   ],
   "source": [
    "from keras import models\n",
    "from keras import layers\n",
    "from keras import optimizers\n",
    "\n",
    "model = models.Sequential()\n",
    "model.add(layers.Dense(256, activation='relu', input_dim=4 * 4 * 512))\n",
    "model.add(layers.Dropout(0.5))\n",
    "model.add(layers.Dense(1, activation='sigmoid'))\n",
    "\n",
    "model.compile(optimizer=optimizers.RMSprop(lr=2e-5),\n",
    "              loss='binary_crossentropy',\n",
    "              metrics=['acc'])\n",
    "\n",
    "history = model.fit(train_features, train_labels,\n",
    "                    epochs=30,\n",
    "                    batch_size=20,\n",
    "                    validation_data=(validation_features, validation_labels))"
   ]
  },
  {
   "cell_type": "code",
   "execution_count": 9,
   "metadata": {},
   "outputs": [
    {
     "data": {
      "image/png": "[encoded data removed]",
      "text/plain": [
       "<Figure size 432x288 with 1 Axes>"
      ]
     },
     "metadata": {
      "needs_background": "light"
     },
     "output_type": "display_data"
    },
    {
     "data": {
      "image/png": "[encoded data removed]",
      "text/plain": [
       "<Figure size 432x288 with 1 Axes>"
      ]
     },
     "metadata": {
      "needs_background": "light"
     },
     "output_type": "display_data"
    }
   ],
   "source": [
    "import matplotlib.pyplot as plt\n",
    "\n",
    "acc = history.history['acc']\n",
    "val_acc = history.history['val_acc']\n",
    "loss = history.history['loss']\n",
    "val_loss = history.history['val_loss']\n",
    "\n",
    "epochs = range(len(acc))\n",
    "\n",
    "plt.plot(epochs, acc, 'bo', label='Training acc')\n",
    "plt.plot(epochs, val_acc, 'b', label='Validation acc')\n",
    "plt.title('Training and validation accuracy')\n",
    "plt.legend()\n",
    "\n",
    "plt.figure()\n",
    "\n",
    "plt.plot(epochs, loss, 'bo', label='Training loss')\n",
    "plt.plot(epochs, val_loss, 'b', label='Validation loss')\n",
    "plt.title('Training and validation loss')\n",
    "plt.legend()\n",
    "\n",
    "plt.show()"
   ]
  },
  {
   "cell_type": "code",
   "execution_count": 10,
   "metadata": {},
   "outputs": [],
   "source": [
    "#데이터 증식을 사용한 특성 추출\n",
    "from keras import models\n",
    "from keras import layers\n",
    "\n",
    "model = models.Sequential()\n",
    "model.add(conv_base)\n",
    "model.add(layers.Flatten())\n",
    "model.add(layers.Dense(256, activation='relu'))\n",
    "model.add(layers.Dense(1, activation='sigmoid'))"
   ]
  },
  {
   "cell_type": "code",
   "execution_count": 11,
   "metadata": {},
   "outputs": [
    {
     "name": "stdout",
     "output_type": "stream",
     "text": [
      "Model: \"sequential_1\"\n",
      "_________________________________________________________________\n",
      "Layer (type)                 Output Shape              Param #   \n",
      "=================================================================\n",
      "vgg16 (Functional)           (None, 4, 4, 512)         14714688  \n",
      "_________________________________________________________________\n",
      "flatten (Flatten)            (None, 8192)              0         \n",
      "_________________________________________________________________\n",
      "dense_2 (Dense)              (None, 256)               2097408   \n",
      "_________________________________________________________________\n",
      "dense_3 (Dense)              (None, 1)                 257       \n",
      "=================================================================\n",
      "Total params: 16,812,353\n",
      "Trainable params: 16,812,353\n",
      "Non-trainable params: 0\n",
      "_________________________________________________________________\n"
     ]
    }
   ],
   "source": [
    "model.summary()"
   ]
  },
  {
   "cell_type": "code",
   "execution_count": 12,
   "metadata": {},
   "outputs": [
    {
     "name": "stdout",
     "output_type": "stream",
     "text": [
      "conv_base를 동결하기 전 훈련되는 가중치의 수: 30\n"
     ]
    }
   ],
   "source": [
    "#합성곱 기반층을 동결하지 않으면 사전에 학습된 표현이 훈련하는동안 수정됨\n",
    "print('conv_base를 동결하기 전 훈련되는 가중치의 수:', \n",
    "      len(model.trainable_weights))"
   ]
  },
  {
   "cell_type": "code",
   "execution_count": 13,
   "metadata": {},
   "outputs": [],
   "source": [
    "conv_base.trainable = False"
   ]
  },
  {
   "cell_type": "code",
   "execution_count": 14,
   "metadata": {},
   "outputs": [
    {
     "name": "stdout",
     "output_type": "stream",
     "text": [
      "conv_base를 동결한 후 훈련되는 가중치의 수: 4\n"
     ]
    }
   ],
   "source": [
    "print('conv_base를 동결한 후 훈련되는 가중치의 수:', \n",
    "      len(model.trainable_weights))"
   ]
  },
  {
   "cell_type": "code",
   "execution_count": 16,
   "metadata": {},
   "outputs": [
    {
     "name": "stdout",
     "output_type": "stream",
     "text": [
      "Found 2000 images belonging to 2 classes.\n",
      "Found 1000 images belonging to 2 classes.\n",
      "Epoch 1/15\n",
      "100/100 - 370s - loss: 0.4348 - acc: 0.8245 - val_loss: 0.3487 - val_acc: 0.8770\n",
      "Epoch 2/15\n",
      "100/100 - 393s - loss: 0.3701 - acc: 0.8480 - val_loss: 0.3100 - val_acc: 0.8870\n",
      "Epoch 3/15\n",
      "100/100 - 393s - loss: 0.3274 - acc: 0.8590 - val_loss: 0.2839 - val_acc: 0.8960\n",
      "Epoch 4/15\n",
      "100/100 - 430s - loss: 0.3055 - acc: 0.8745 - val_loss: 0.2690 - val_acc: 0.8990\n",
      "Epoch 5/15\n",
      "100/100 - 442s - loss: 0.2939 - acc: 0.8780 - val_loss: 0.2734 - val_acc: 0.8960\n",
      "Epoch 6/15\n",
      "100/100 - 348s - loss: 0.2766 - acc: 0.8895 - val_loss: 0.2542 - val_acc: 0.9010\n",
      "Epoch 7/15\n",
      "100/100 - 305s - loss: 0.2745 - acc: 0.8840 - val_loss: 0.2465 - val_acc: 0.9030\n",
      "Epoch 8/15\n",
      "100/100 - 303s - loss: 0.2549 - acc: 0.8960 - val_loss: 0.2459 - val_acc: 0.9040\n",
      "Epoch 9/15\n",
      "100/100 - 304s - loss: 0.2544 - acc: 0.8995 - val_loss: 0.2458 - val_acc: 0.8990\n",
      "Epoch 10/15\n",
      "100/100 - 304s - loss: 0.2496 - acc: 0.8985 - val_loss: 0.2385 - val_acc: 0.9060\n",
      "Epoch 11/15\n",
      "100/100 - 321s - loss: 0.2467 - acc: 0.8985 - val_loss: 0.2323 - val_acc: 0.9160\n",
      "Epoch 12/15\n",
      "100/100 - 307s - loss: 0.2369 - acc: 0.8995 - val_loss: 0.2438 - val_acc: 0.9050\n",
      "Epoch 13/15\n",
      "100/100 - 303s - loss: 0.2361 - acc: 0.9040 - val_loss: 0.2326 - val_acc: 0.9050\n",
      "Epoch 14/15\n",
      "100/100 - 304s - loss: 0.2318 - acc: 0.9070 - val_loss: 0.2270 - val_acc: 0.9170\n",
      "Epoch 15/15\n",
      "100/100 - 326s - loss: 0.2178 - acc: 0.9165 - val_loss: 0.2276 - val_acc: 0.9180\n"
     ]
    }
   ],
   "source": [
    "from keras.preprocessing.image import ImageDataGenerator\n",
    "\n",
    "train_datagen = ImageDataGenerator(\n",
    "      rescale=1./255,\n",
    "      rotation_range=20,\n",
    "      width_shift_range=0.1,\n",
    "      height_shift_range=0.1,\n",
    "      shear_range=0.1,\n",
    "      zoom_range=0.1,\n",
    "      horizontal_flip=True,\n",
    "      fill_mode='nearest')\n",
    "\n",
    "# 검증 데이터는 증식되어서는 안 됩니다!\n",
    "test_datagen = ImageDataGenerator(rescale=1./255)\n",
    "\n",
    "train_generator = train_datagen.flow_from_directory(\n",
    "        # 타깃 디렉터리\n",
    "        train_dir,\n",
    "        # 모든 이미지의 크기를 150 × 150로 변경\n",
    "        target_size=(150, 150),\n",
    "        batch_size=20,\n",
    "        # binary_crossentropy 손실을 사용하므로 이진 레이블이 필요\n",
    "        class_mode='binary')\n",
    "\n",
    "validation_generator = test_datagen.flow_from_directory(\n",
    "        validation_dir,\n",
    "        target_size=(150, 150),\n",
    "        batch_size=20,\n",
    "        class_mode='binary')\n",
    "\n",
    "model.compile(loss='binary_crossentropy',\n",
    "              optimizer=optimizers.RMSprop(lr=2e-5),\n",
    "              metrics=['acc'])\n",
    "\n",
    "history = model.fit(\n",
    "      train_generator,\n",
    "      steps_per_epoch=100,\n",
    "      epochs=15,\n",
    "      validation_data=validation_generator,\n",
    "      validation_steps=50,\n",
    "      verbose=2)"
   ]
  },
  {
   "cell_type": "code",
   "execution_count": 17,
   "metadata": {},
   "outputs": [],
   "source": [
    "model.save('cats_and_dogs_small_3.h5')"
   ]
  },
  {
   "cell_type": "code",
   "execution_count": 18,
   "metadata": {},
   "outputs": [
    {
     "data": {
      "image/png": "[encoded data removed]",
      "text/plain": [
       "<Figure size 432x288 with 1 Axes>"
      ]
     },
     "metadata": {
      "needs_background": "light"
     },
     "output_type": "display_data"
    },
    {
     "data": {
      "image/png": "[encoded data removed]",
      "text/plain": [
       "<Figure size 432x288 with 1 Axes>"
      ]
     },
     "metadata": {
      "needs_background": "light"
     },
     "output_type": "display_data"
    }
   ],
   "source": [
    "acc = history.history['acc']\n",
    "val_acc = history.history['val_acc']\n",
    "loss = history.history['loss']\n",
    "val_loss = history.history['val_loss']\n",
    "\n",
    "epochs = range(len(acc))\n",
    "\n",
    "plt.plot(epochs, acc, 'bo', label='Training acc')\n",
    "plt.plot(epochs, val_acc, 'b', label='Validation acc')\n",
    "plt.title('Training and validation accuracy')\n",
    "plt.legend()\n",
    "\n",
    "plt.figure()\n",
    "\n",
    "plt.plot(epochs, loss, 'bo', label='Training loss')\n",
    "plt.plot(epochs, val_loss, 'b', label='Validation loss')\n",
    "plt.title('Training and validation loss')\n",
    "plt.legend()\n",
    "\n",
    "plt.show()"
   ]
  },
  {
   "cell_type": "code",
   "execution_count": 19,
   "metadata": {},
   "outputs": [],
   "source": [
    "#미세조정\n",
    "\n",
    "conv_base.trainable = True\n",
    "\n",
    "#동결 여부\n",
    "set_trainable = False\n",
    "for layer in conv_base.layers:\n",
    "    if layer.name == 'block5_conv1':\n",
    "        set_trainable = True\n",
    "    if set_trainable:\n",
    "        layer.trainable = True\n",
    "    else:\n",
    "        layer.trainable = False"
   ]
  },
  {
   "cell_type": "code",
   "execution_count": 22,
   "metadata": {},
   "outputs": [
    {
     "name": "stdout",
     "output_type": "stream",
     "text": [
      "Epoch 1/10\n",
      "100/100 [==============================] - 353s 4s/step - loss: 0.2247 - acc: 0.9093 - val_loss: 0.1996 - val_acc: 0.9240\n",
      "Epoch 2/10\n",
      "100/100 [==============================] - 363s 4s/step - loss: 0.1614 - acc: 0.9312 - val_loss: 0.2256 - val_acc: 0.9190\n",
      "Epoch 3/10\n",
      "100/100 [==============================] - 344s 3s/step - loss: 0.1398 - acc: 0.9534 - val_loss: 0.1984 - val_acc: 0.9260\n",
      "Epoch 4/10\n",
      "100/100 [==============================] - 348s 3s/step - loss: 0.1218 - acc: 0.9495 - val_loss: 0.2003 - val_acc: 0.9260\n",
      "Epoch 5/10\n",
      "100/100 [==============================] - 345s 3s/step - loss: 0.0951 - acc: 0.9615 - val_loss: 0.2024 - val_acc: 0.9260\n",
      "Epoch 6/10\n",
      "100/100 [==============================] - 345s 3s/step - loss: 0.0807 - acc: 0.9710 - val_loss: 0.1870 - val_acc: 0.9360\n",
      "Epoch 7/10\n",
      "100/100 [==============================] - 343s 3s/step - loss: 0.0785 - acc: 0.9737 - val_loss: 0.1887 - val_acc: 0.9280\n",
      "Epoch 8/10\n",
      "100/100 [==============================] - 342s 3s/step - loss: 0.0699 - acc: 0.9792 - val_loss: 0.2071 - val_acc: 0.9260\n",
      "Epoch 9/10\n",
      "100/100 [==============================] - 342s 3s/step - loss: 0.0513 - acc: 0.9825 - val_loss: 0.1979 - val_acc: 0.9350\n",
      "Epoch 10/10\n",
      "100/100 [==============================] - 342s 3s/step - loss: 0.0491 - acc: 0.9866 - val_loss: 0.1917 - val_acc: 0.9380\n"
     ]
    }
   ],
   "source": [
    "model.compile(loss='binary_crossentropy',\n",
    "              optimizer=optimizers.RMSprop(lr=1e-5),\n",
    "              metrics=['acc'])\n",
    "\n",
    "history = model.fit(\n",
    "      train_generator,\n",
    "      steps_per_epoch=100,\n",
    "      epochs=10,\n",
    "      validation_data=validation_generator,\n",
    "      validation_steps=50)"
   ]
  },
  {
   "cell_type": "code",
   "execution_count": 23,
   "metadata": {},
   "outputs": [],
   "source": [
    "model.save('cats_and_dogs_small_4.h5')"
   ]
  },
  {
   "cell_type": "code",
   "execution_count": 32,
   "metadata": {},
   "outputs": [
    {
     "data": {
      "image/png": "[encoded data removed]",
      "text/plain": [
       "<Figure size 432x288 with 1 Axes>"
      ]
     },
     "metadata": {
      "needs_background": "light"
     },
     "output_type": "display_data"
    },
    {
     "data": {
      "image/png": "[encoded data removed]",
      "text/plain": [
       "<Figure size 432x288 with 1 Axes>"
      ]
     },
     "metadata": {
      "needs_background": "light"
     },
     "output_type": "display_data"
    }
   ],
   "source": [
    "acc = history.history['acc']\n",
    "val_acc = history.history['val_acc']\n",
    "loss = history.history['loss']\n",
    "val_loss = history.history['val_loss']\n",
    "\n",
    "epochs = range(len(acc))\n",
    "\n",
    "plt.plot(epochs, acc, 'bo', label='Training acc')\n",
    "plt.plot(epochs, val_acc, 'b', label='Validation acc')\n",
    "plt.title('Training and validation accuracy')\n",
    "plt.legend()\n",
    "\n",
    "plt.figure()\n",
    "\n",
    "plt.plot(epochs, loss, 'bo', label='Training loss')\n",
    "plt.plot(epochs, val_loss, 'b', label='Validation loss')\n",
    "plt.title('Training and validation loss')\n",
    "plt.legend()\n",
    "\n",
    "plt.show()"
   ]
  },
  {
   "cell_type": "code",
   "execution_count": 33,
   "metadata": {},
   "outputs": [
    {
     "data": {
      "image/png": "[encoded data removed]",
      "text/plain": [
       "<Figure size 432x288 with 1 Axes>"
      ]
     },
     "metadata": {
      "needs_background": "light"
     },
     "output_type": "display_data"
    },
    {
     "data": {
      "image/png": "[encoded data removed]",
      "text/plain": [
       "<Figure size 432x288 with 1 Axes>"
      ]
     },
     "metadata": {
      "needs_background": "light"
     },
     "output_type": "display_data"
    }
   ],
   "source": [
    "def smooth_curve(points, factor=0.8):\n",
    "    smoothed_points = []\n",
    "    for point in points:\n",
    "        if smoothed_points:\n",
    "            previous = smoothed_points[-1]\n",
    "            smoothed_points.append(previous * factor + point * (1 - factor))\n",
    "        else:\n",
    "            smoothed_points.append(point)\n",
    "    return smoothed_points\n",
    "\n",
    "plt.plot(epochs,\n",
    "         smooth_curve(acc), 'bo', label='Smoothed training acc')\n",
    "plt.plot(epochs,\n",
    "         smooth_curve(val_acc), 'b', label='Smoothed validation acc')\n",
    "plt.title('Training and validation accuracy')\n",
    "plt.legend()\n",
    "\n",
    "plt.figure()\n",
    "\n",
    "plt.plot(epochs,\n",
    "         smooth_curve(loss), 'bo', label='Smoothed training loss')\n",
    "plt.plot(epochs,\n",
    "         smooth_curve(val_loss), 'b', label='Smoothed validation loss')\n",
    "plt.title('Training and validation loss')\n",
    "plt.legend()\n",
    "\n",
    "plt.show()"
   ]
  },
  {
   "cell_type": "code",
   "execution_count": 34,
   "metadata": {},
   "outputs": [
    {
     "name": "stdout",
     "output_type": "stream",
     "text": [
      "Found 1000 images belonging to 2 classes.\n"
     ]
    },
    {
     "name": "stderr",
     "output_type": "stream",
     "text": [
      "C:\\Users\\Woody\\anaconda3\\lib\\site-packages\\tensorflow\\python\\keras\\engine\\training.py:1877: UserWarning: `Model.evaluate_generator` is deprecated and will be removed in a future version. Please use `Model.evaluate`, which supports generators.\n",
      "  warnings.warn('`Model.evaluate_generator` is deprecated and '\n"
     ]
    },
    {
     "name": "stdout",
     "output_type": "stream",
     "text": [
      "test acc: 0.9279999732971191\n"
     ]
    }
   ],
   "source": [
    "test_generator = test_datagen.flow_from_directory(\n",
    "        test_dir,\n",
    "        target_size=(150, 150),\n",
    "        batch_size=20,\n",
    "        class_mode='binary')\n",
    "\n",
    "test_loss, test_acc = model.evaluate(test_generator, steps=50)\n",
    "print('test acc:', test_acc)"
   ]
  },
  {
   "cell_type": "code",
   "execution_count": null,
   "metadata": {},
   "outputs": [],
   "source": []
  }
 ],
 "metadata": {
  "kernelspec": {
   "display_name": "Python 3",
   "language": "python",
   "name": "python3"
  },
  "language_info": {
   "codemirror_mode": {
    "name": "ipython",
    "version": 3
   },
   "file_extension": ".py",
   "mimetype": "text/x-python",
   "name": "python",
   "nbconvert_exporter": "python",
   "pygments_lexer": "ipython3",
   "version": "3.8.5"
  }
 },
 "nbformat": 4,
 "nbformat_minor": 4
}
