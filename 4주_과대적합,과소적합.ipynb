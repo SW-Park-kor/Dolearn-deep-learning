{
 "cells": [
  {
   "cell_type": "code",
   "execution_count": 1,
   "metadata": {},
   "outputs": [
    {
     "name": "stderr",
     "output_type": "stream",
     "text": [
      "<__array_function__ internals>:5: VisibleDeprecationWarning: Creating an ndarray from ragged nested sequences (which is a list-or-tuple of lists-or-tuples-or ndarrays with different lengths or shapes) is deprecated. If you meant to do this, you must specify 'dtype=object' when creating the ndarray\n",
      "C:\\Users\\Woody\\anaconda3\\lib\\site-packages\\tensorflow\\python\\keras\\datasets\\imdb.py:159: VisibleDeprecationWarning: Creating an ndarray from ragged nested sequences (which is a list-or-tuple of lists-or-tuples-or ndarrays with different lengths or shapes) is deprecated. If you meant to do this, you must specify 'dtype=object' when creating the ndarray\n",
      "  x_train, y_train = np.array(xs[:idx]), np.array(labels[:idx])\n",
      "C:\\Users\\Woody\\anaconda3\\lib\\site-packages\\tensorflow\\python\\keras\\datasets\\imdb.py:160: VisibleDeprecationWarning: Creating an ndarray from ragged nested sequences (which is a list-or-tuple of lists-or-tuples-or ndarrays with different lengths or shapes) is deprecated. If you meant to do this, you must specify 'dtype=object' when creating the ndarray\n",
      "  x_test, y_test = np.array(xs[idx:]), np.array(labels[idx:])\n"
     ]
    }
   ],
   "source": [
    "from keras.datasets import imdb\n",
    "import numpy as np\n",
    "\n",
    "(train_data, train_labels), (test_data, test_labels) = imdb.load_data(num_words=10000)"
   ]
  },
  {
   "cell_type": "code",
   "execution_count": 2,
   "metadata": {},
   "outputs": [],
   "source": [
    "def vectorize_sequences(sequences, dimension=10000):\n",
    "    results = np.zeros((len(sequences), dimension))\n",
    "    for i, sequence in enumerate(sequences):\n",
    "        results[i, sequence] = 1.\n",
    "    return results\n",
    "\n",
    "x_train = vectorize_sequences(train_data)\n",
    "x_test = vectorize_sequences(test_data)\n",
    "\n",
    "y_train = np.asarray(train_labels).astype('float32')\n",
    "y_test = np.asarray(test_labels).astype('float32')"
   ]
  },
  {
   "cell_type": "code",
   "execution_count": 3,
   "metadata": {},
   "outputs": [],
   "source": [
    "from keras import models\n",
    "from keras import layers\n",
    "\n",
    "#원래 네트워크\n",
    "original_model = models.Sequential()\n",
    "original_model.add(layers.Dense(16, activation='relu', input_shape=(10000,)))\n",
    "original_model.add(layers.Dense(16, activation='relu'))\n",
    "original_model.add(layers.Dense(1, activation='sigmoid'))\n",
    "\n",
    "original_model.compile(optimizer='rmsprop',\n",
    "                       loss='binary_crossentropy',\n",
    "                       metrics=['acc'])"
   ]
  },
  {
   "cell_type": "code",
   "execution_count": 4,
   "metadata": {},
   "outputs": [],
   "source": [
    "#더 작은 네트워크\n",
    "smaller_model = models.Sequential()\n",
    "smaller_model.add(layers.Dense(6, activation='relu', input_shape=(10000,)))\n",
    "smaller_model.add(layers.Dense(6, activation='relu'))\n",
    "smaller_model.add(layers.Dense(1, activation='sigmoid'))\n",
    "\n",
    "smaller_model.compile(optimizer='rmsprop',\n",
    "                      loss='binary_crossentropy',\n",
    "                      metrics=['acc'])"
   ]
  },
  {
   "cell_type": "code",
   "execution_count": 5,
   "metadata": {},
   "outputs": [
    {
     "name": "stdout",
     "output_type": "stream",
     "text": [
      "Epoch 1/20\n",
      "49/49 [==============================] - 20s 353ms/step - loss: 0.5408 - acc: 0.7617 - val_loss: 0.3342 - val_acc: 0.8803\n",
      "Epoch 2/20\n",
      "49/49 [==============================] - 2s 50ms/step - loss: 0.2667 - acc: 0.9113 - val_loss: 0.2966 - val_acc: 0.8804\n",
      "Epoch 3/20\n",
      "49/49 [==============================] - 2s 47ms/step - loss: 0.1971 - acc: 0.9315 - val_loss: 0.2847 - val_acc: 0.8868\n",
      "Epoch 4/20\n",
      "49/49 [==============================] - 3s 55ms/step - loss: 0.1657 - acc: 0.9427 - val_loss: 0.3116 - val_acc: 0.8770\n",
      "Epoch 5/20\n",
      "49/49 [==============================] - 2s 44ms/step - loss: 0.1417 - acc: 0.9517 - val_loss: 0.3224 - val_acc: 0.8769\n",
      "Epoch 6/20\n",
      "49/49 [==============================] - 2s 44ms/step - loss: 0.1217 - acc: 0.9599 - val_loss: 0.3369 - val_acc: 0.8756\n",
      "Epoch 7/20\n",
      "49/49 [==============================] - 2s 38ms/step - loss: 0.1043 - acc: 0.9664 - val_loss: 0.3596 - val_acc: 0.8721\n",
      "Epoch 8/20\n",
      "49/49 [==============================] - 2s 45ms/step - loss: 0.0965 - acc: 0.9689 - val_loss: 0.4194 - val_acc: 0.8623\n",
      "Epoch 9/20\n",
      "49/49 [==============================] - 2s 39ms/step - loss: 0.0859 - acc: 0.9709 - val_loss: 0.4254 - val_acc: 0.8637\n",
      "Epoch 10/20\n",
      "49/49 [==============================] - 2s 44ms/step - loss: 0.0731 - acc: 0.9761 - val_loss: 0.4512 - val_acc: 0.8632\n",
      "Epoch 11/20\n",
      "49/49 [==============================] - 2s 39ms/step - loss: 0.0664 - acc: 0.9789 - val_loss: 0.4790 - val_acc: 0.8620\n",
      "Epoch 12/20\n",
      "49/49 [==============================] - 2s 44ms/step - loss: 0.0610 - acc: 0.9814 - val_loss: 0.5456 - val_acc: 0.8509\n",
      "Epoch 13/20\n",
      "49/49 [==============================] - 2s 37ms/step - loss: 0.0547 - acc: 0.9838 - val_loss: 0.5389 - val_acc: 0.8588\n",
      "Epoch 14/20\n",
      "49/49 [==============================] - 2s 43ms/step - loss: 0.0438 - acc: 0.9877 - val_loss: 0.5751 - val_acc: 0.8543\n",
      "Epoch 15/20\n",
      "49/49 [==============================] - 2s 40ms/step - loss: 0.0412 - acc: 0.9878 - val_loss: 0.6106 - val_acc: 0.8541\n",
      "Epoch 16/20\n",
      "49/49 [==============================] - 2s 42ms/step - loss: 0.0387 - acc: 0.9883 - val_loss: 0.6480 - val_acc: 0.8519\n",
      "Epoch 17/20\n",
      "49/49 [==============================] - 2s 41ms/step - loss: 0.0295 - acc: 0.9922 - val_loss: 0.6876 - val_acc: 0.8532\n",
      "Epoch 18/20\n",
      "49/49 [==============================] - 2s 41ms/step - loss: 0.0289 - acc: 0.9922 - val_loss: 0.7750 - val_acc: 0.8426\n",
      "Epoch 19/20\n",
      "49/49 [==============================] - 2s 49ms/step - loss: 0.0272 - acc: 0.9932 - val_loss: 0.7730 - val_acc: 0.8477\n",
      "Epoch 20/20\n",
      "49/49 [==============================] - 2s 37ms/step - loss: 0.0195 - acc: 0.9955 - val_loss: 0.7933 - val_acc: 0.8490\n"
     ]
    }
   ],
   "source": [
    "original_hist = original_model.fit(x_train, y_train,\n",
    "                                   epochs=20,\n",
    "                                   batch_size=512,\n",
    "                                   validation_data=(x_test, y_test))"
   ]
  },
  {
   "cell_type": "code",
   "execution_count": 6,
   "metadata": {},
   "outputs": [
    {
     "name": "stdout",
     "output_type": "stream",
     "text": [
      "Epoch 1/20\n",
      "49/49 [==============================] - 18s 321ms/step - loss: 0.6145 - acc: 0.6543 - val_loss: 0.4059 - val_acc: 0.8701\n",
      "Epoch 2/20\n",
      "49/49 [==============================] - 2s 38ms/step - loss: 0.3418 - acc: 0.8995 - val_loss: 0.3158 - val_acc: 0.8848\n",
      "Epoch 3/20\n",
      "49/49 [==============================] - 2s 42ms/step - loss: 0.2484 - acc: 0.9188 - val_loss: 0.2870 - val_acc: 0.8881\n",
      "Epoch 4/20\n",
      "49/49 [==============================] - 2s 37ms/step - loss: 0.1928 - acc: 0.9365 - val_loss: 0.2830 - val_acc: 0.8868\n",
      "Epoch 5/20\n",
      "49/49 [==============================] - 2s 42ms/step - loss: 0.1719 - acc: 0.9416 - val_loss: 0.2864 - val_acc: 0.8867\n",
      "Epoch 6/20\n",
      "49/49 [==============================] - 2s 38ms/step - loss: 0.1463 - acc: 0.9513 - val_loss: 0.3002 - val_acc: 0.8822\n",
      "Epoch 7/20\n",
      "49/49 [==============================] - 2s 45ms/step - loss: 0.1358 - acc: 0.9550 - val_loss: 0.3129 - val_acc: 0.8808\n",
      "Epoch 8/20\n",
      "49/49 [==============================] - 2s 38ms/step - loss: 0.1121 - acc: 0.9647 - val_loss: 0.3293 - val_acc: 0.8772\n",
      "Epoch 9/20\n",
      "49/49 [==============================] - 2s 42ms/step - loss: 0.1051 - acc: 0.9680 - val_loss: 0.3495 - val_acc: 0.8743\n",
      "Epoch 10/20\n",
      "49/49 [==============================] - 2s 38ms/step - loss: 0.0964 - acc: 0.9702 - val_loss: 0.3716 - val_acc: 0.8724\n",
      "Epoch 11/20\n",
      "49/49 [==============================] - 2s 40ms/step - loss: 0.0877 - acc: 0.9747 - val_loss: 0.3910 - val_acc: 0.8704\n",
      "Epoch 12/20\n",
      "49/49 [==============================] - 2s 42ms/step - loss: 0.0810 - acc: 0.9763 - val_loss: 0.4137 - val_acc: 0.8656\n",
      "Epoch 13/20\n",
      "49/49 [==============================] - 2s 37ms/step - loss: 0.0728 - acc: 0.9791 - val_loss: 0.4476 - val_acc: 0.8614\n",
      "Epoch 14/20\n",
      "49/49 [==============================] - 2s 45ms/step - loss: 0.0657 - acc: 0.9817 - val_loss: 0.4610 - val_acc: 0.8616\n",
      "Epoch 15/20\n",
      "49/49 [==============================] - 2s 43ms/step - loss: 0.0587 - acc: 0.9843 - val_loss: 0.4828 - val_acc: 0.8605\n",
      "Epoch 16/20\n",
      "49/49 [==============================] - 2s 43ms/step - loss: 0.0545 - acc: 0.9866 - val_loss: 0.5150 - val_acc: 0.8565\n",
      "Epoch 17/20\n",
      "49/49 [==============================] - 2s 37ms/step - loss: 0.0480 - acc: 0.9877 - val_loss: 0.5370 - val_acc: 0.8577\n",
      "Epoch 18/20\n",
      "49/49 [==============================] - 2s 45ms/step - loss: 0.0430 - acc: 0.9892 - val_loss: 0.5705 - val_acc: 0.8572\n",
      "Epoch 19/20\n",
      "49/49 [==============================] - 2s 44ms/step - loss: 0.0406 - acc: 0.9903 - val_loss: 0.5974 - val_acc: 0.8560\n",
      "Epoch 20/20\n",
      "49/49 [==============================] - 2s 42ms/step - loss: 0.0347 - acc: 0.9925 - val_loss: 0.6252 - val_acc: 0.8545\n"
     ]
    }
   ],
   "source": [
    "smaller_model_hist = smaller_model.fit(x_train, y_train,\n",
    "                                       epochs=20,\n",
    "                                       batch_size=512,\n",
    "                                       validation_data=(x_test, y_test))"
   ]
  },
  {
   "cell_type": "code",
   "execution_count": 7,
   "metadata": {},
   "outputs": [],
   "source": [
    "epochs = range(1, 21)\n",
    "original_val_loss = original_hist.history['val_loss']\n",
    "smaller_model_val_loss = smaller_model_hist.history['val_loss']"
   ]
  },
  {
   "cell_type": "code",
   "execution_count": 8,
   "metadata": {},
   "outputs": [
    {
     "data": {
      "image/png": "[encoded data removed]",
      "text/plain": [
       "<Figure size 432x288 with 1 Axes>"
      ]
     },
     "metadata": {
      "needs_background": "light"
     },
     "output_type": "display_data"
    }
   ],
   "source": [
    "import matplotlib.pyplot as plt\n",
    "\n",
    "plt.plot(epochs, original_val_loss, 'b+', label='Original model')\n",
    "plt.plot(epochs, smaller_model_val_loss, 'bo', label='Smaller model')\n",
    "plt.xlabel('Epochs')\n",
    "plt.ylabel('Validation loss')\n",
    "plt.legend()\n",
    "\n",
    "plt.show()\n",
    "# original model은 더 빨리 적응했다가 과대적합으로 더 빨리 감\n",
    "# smaller model 은 더 천천히 적응행다가 과대적합으로 더 나중에 감"
   ]
  },
  {
   "cell_type": "code",
   "execution_count": 9,
   "metadata": {},
   "outputs": [],
   "source": [
    "#훨씬 많은 네트워크\n",
    "bigger_model = models.Sequential()\n",
    "bigger_model.add(layers.Dense(1024, activation='relu', input_shape=(10000,)))\n",
    "bigger_model.add(layers.Dense(1024, activation='relu'))\n",
    "bigger_model.add(layers.Dense(1, activation='sigmoid'))\n",
    "\n",
    "bigger_model.compile(optimizer='rmsprop',\n",
    "                     loss='binary_crossentropy',\n",
    "                     metrics=['acc'])"
   ]
  },
  {
   "cell_type": "code",
   "execution_count": 10,
   "metadata": {
    "scrolled": true
   },
   "outputs": [
    {
     "name": "stdout",
     "output_type": "stream",
     "text": [
      "Epoch 1/20\n",
      "49/49 [==============================] - 43s 830ms/step - loss: 0.7172 - acc: 0.7085 - val_loss: 0.3393 - val_acc: 0.8566\n",
      "Epoch 2/20\n",
      "49/49 [==============================] - 29s 604ms/step - loss: 0.2235 - acc: 0.9145 - val_loss: 0.3487 - val_acc: 0.8521\n",
      "Epoch 3/20\n",
      "49/49 [==============================] - 29s 604ms/step - loss: 0.1286 - acc: 0.9526 - val_loss: 0.3625 - val_acc: 0.8811\n",
      "Epoch 4/20\n",
      "49/49 [==============================] - 30s 616ms/step - loss: 0.0617 - acc: 0.9874 - val_loss: 0.4379 - val_acc: 0.8805\n",
      "Epoch 5/20\n",
      "49/49 [==============================] - 30s 618ms/step - loss: 0.0208 - acc: 0.9967 - val_loss: 0.4210 - val_acc: 0.8822\n",
      "Epoch 6/20\n",
      "49/49 [==============================] - 32s 658ms/step - loss: 0.0018 - acc: 0.9998 - val_loss: 0.6607 - val_acc: 0.8815\n",
      "Epoch 7/20\n",
      "49/49 [==============================] - 33s 676ms/step - loss: 9.3875e-05 - acc: 1.0000 - val_loss: 0.8410 - val_acc: 0.8824\n",
      "Epoch 8/20\n",
      "49/49 [==============================] - 33s 673ms/step - loss: 0.0718 - acc: 0.9960 - val_loss: 0.6275 - val_acc: 0.8791\n",
      "Epoch 9/20\n",
      "49/49 [==============================] - 36s 735ms/step - loss: 8.9991e-05 - acc: 1.0000 - val_loss: 0.7277 - val_acc: 0.8824\n",
      "Epoch 10/20\n",
      "49/49 [==============================] - 41s 850ms/step - loss: 1.2560e-05 - acc: 1.0000 - val_loss: 0.8138 - val_acc: 0.8830\n",
      "Epoch 11/20\n",
      "49/49 [==============================] - 34s 691ms/step - loss: 3.2805e-06 - acc: 1.0000 - val_loss: 0.9310 - val_acc: 0.8830\n",
      "Epoch 12/20\n",
      "49/49 [==============================] - 27s 543ms/step - loss: 6.5532e-07 - acc: 1.0000 - val_loss: 1.0563 - val_acc: 0.8836\n",
      "Epoch 13/20\n",
      "49/49 [==============================] - 23s 463ms/step - loss: 1.2894e-07 - acc: 1.0000 - val_loss: 1.1780 - val_acc: 0.8836\n",
      "Epoch 14/20\n",
      "49/49 [==============================] - 22s 459ms/step - loss: 3.5827e-08 - acc: 1.0000 - val_loss: 1.2522 - val_acc: 0.8830\n",
      "Epoch 15/20\n",
      "49/49 [==============================] - 23s 464ms/step - loss: 1.5265e-08 - acc: 1.0000 - val_loss: 1.2924 - val_acc: 0.8829\n",
      "Epoch 16/20\n",
      "49/49 [==============================] - 22s 459ms/step - loss: 1.0029e-08 - acc: 1.0000 - val_loss: 1.3183 - val_acc: 0.8828\n",
      "Epoch 17/20\n",
      "49/49 [==============================] - 23s 468ms/step - loss: 7.0293e-09 - acc: 1.0000 - val_loss: 1.3376 - val_acc: 0.8827\n",
      "Epoch 18/20\n",
      "49/49 [==============================] - 22s 459ms/step - loss: 5.6102e-09 - acc: 1.0000 - val_loss: 1.3519 - val_acc: 0.8828\n",
      "Epoch 19/20\n",
      "49/49 [==============================] - 23s 465ms/step - loss: 4.5111e-09 - acc: 1.0000 - val_loss: 1.3633 - val_acc: 0.8826\n",
      "Epoch 20/20\n",
      "49/49 [==============================] - 22s 458ms/step - loss: 4.3056e-09 - acc: 1.0000 - val_loss: 1.3736 - val_acc: 0.8828\n"
     ]
    }
   ],
   "source": [
    "bigger_model_hist = bigger_model.fit(x_train, y_train,\n",
    "                                     epochs=20,\n",
    "                                     batch_size=512,\n",
    "                                     validation_data=(x_test, y_test))"
   ]
  },
  {
   "cell_type": "code",
   "execution_count": 11,
   "metadata": {},
   "outputs": [
    {
     "data": {
      "image/png": "[encoded data removed]",
      "text/plain": [
       "<Figure size 432x288 with 1 Axes>"
      ]
     },
     "metadata": {
      "needs_background": "light"
     },
     "output_type": "display_data"
    }
   ],
   "source": [
    "bigger_model_val_loss = bigger_model_hist.history['val_loss']\n",
    "\n",
    "plt.plot(epochs, original_val_loss, 'b+', label='Original model')\n",
    "plt.plot(epochs, bigger_model_val_loss, 'bo', label='Bigger model')\n",
    "plt.xlabel('Epochs')\n",
    "plt.ylabel('Validation loss')\n",
    "plt.legend()\n",
    "\n",
    "plt.show()"
   ]
  },
  {
   "cell_type": "code",
   "execution_count": 12,
   "metadata": {
    "scrolled": true
   },
   "outputs": [
    {
     "data": {
      "image/png": "[encoded data removed]",
      "text/plain": [
       "<Figure size 432x288 with 1 Axes>"
      ]
     },
     "metadata": {
      "needs_background": "light"
     },
     "output_type": "display_data"
    }
   ],
   "source": [
    "original_train_loss = original_hist.history['loss']\n",
    "bigger_model_train_loss = bigger_model_hist.history['loss']\n",
    "\n",
    "plt.plot(epochs, original_train_loss, 'b+', label='Original model')\n",
    "plt.plot(epochs, bigger_model_train_loss, 'bo', label='Bigger model')\n",
    "plt.xlabel('Epochs')\n",
    "plt.ylabel('Training loss')\n",
    "plt.legend()\n",
    "\n",
    "plt.show()"
   ]
  },
  {
   "cell_type": "code",
   "execution_count": 13,
   "metadata": {},
   "outputs": [],
   "source": [
    "# L2규제 패널티 방법\n",
    "from keras import regularizers\n",
    "\n",
    "l2_model = models.Sequential()\n",
    "l2_model.add(layers.Dense(16, kernel_regularizer=regularizers.l2(0.001),\n",
    "                          activation='relu', input_shape=(10000,)))\n",
    "l2_model.add(layers.Dense(16, kernel_regularizer=regularizers.l2(0.001),\n",
    "                          activation='relu'))\n",
    "l2_model.add(layers.Dense(1, activation='sigmoid'))"
   ]
  },
  {
   "cell_type": "code",
   "execution_count": 14,
   "metadata": {},
   "outputs": [],
   "source": [
    "l2_model.compile(optimizer='rmsprop',\n",
    "                 loss='binary_crossentropy',\n",
    "                 metrics=['acc'])"
   ]
  },
  {
   "cell_type": "code",
   "execution_count": 15,
   "metadata": {},
   "outputs": [
    {
     "name": "stdout",
     "output_type": "stream",
     "text": [
      "Epoch 1/20\n",
      "49/49 [==============================] - 33s 636ms/step - loss: 0.6169 - acc: 0.7385 - val_loss: 0.4135 - val_acc: 0.8766\n",
      "Epoch 2/20\n",
      "49/49 [==============================] - 2s 34ms/step - loss: 0.3607 - acc: 0.8955 - val_loss: 0.3412 - val_acc: 0.8876\n",
      "Epoch 3/20\n",
      "49/49 [==============================] - 1s 31ms/step - loss: 0.2864 - acc: 0.9194 - val_loss: 0.3389 - val_acc: 0.8818\n",
      "Epoch 4/20\n",
      "49/49 [==============================] - 2s 33ms/step - loss: 0.2532 - acc: 0.9302 - val_loss: 0.3609 - val_acc: 0.8709\n",
      "Epoch 5/20\n",
      "49/49 [==============================] - 1s 30ms/step - loss: 0.2359 - acc: 0.9382 - val_loss: 0.3346 - val_acc: 0.8850\n",
      "Epoch 6/20\n",
      "49/49 [==============================] - 1s 30ms/step - loss: 0.2267 - acc: 0.9403 - val_loss: 0.3423 - val_acc: 0.8833\n",
      "Epoch 7/20\n",
      "49/49 [==============================] - 2s 36ms/step - loss: 0.2191 - acc: 0.9421 - val_loss: 0.3883 - val_acc: 0.8662\n",
      "Epoch 8/20\n",
      "49/49 [==============================] - 1s 30ms/step - loss: 0.2160 - acc: 0.9440 - val_loss: 0.3533 - val_acc: 0.8802\n",
      "Epoch 9/20\n",
      "49/49 [==============================] - 2s 31ms/step - loss: 0.2071 - acc: 0.9447 - val_loss: 0.3592 - val_acc: 0.8794\n",
      "Epoch 10/20\n",
      "49/49 [==============================] - 2s 34ms/step - loss: 0.1989 - acc: 0.9513 - val_loss: 0.3744 - val_acc: 0.8740\n",
      "Epoch 11/20\n",
      "49/49 [==============================] - 2s 32ms/step - loss: 0.1925 - acc: 0.9536 - val_loss: 0.3740 - val_acc: 0.8750\n",
      "Epoch 12/20\n",
      "49/49 [==============================] - 2s 35ms/step - loss: 0.1885 - acc: 0.9569 - val_loss: 0.4157 - val_acc: 0.8628\n",
      "Epoch 13/20\n",
      "49/49 [==============================] - 2s 35ms/step - loss: 0.1926 - acc: 0.9518 - val_loss: 0.3954 - val_acc: 0.8699\n",
      "Epoch 14/20\n",
      "49/49 [==============================] - 1s 30ms/step - loss: 0.1871 - acc: 0.9566 - val_loss: 0.4509 - val_acc: 0.8537\n",
      "Epoch 15/20\n",
      "49/49 [==============================] - 2s 35ms/step - loss: 0.1844 - acc: 0.9550 - val_loss: 0.3947 - val_acc: 0.8714\n",
      "Epoch 16/20\n",
      "49/49 [==============================] - 2s 31ms/step - loss: 0.1805 - acc: 0.9574 - val_loss: 0.4651 - val_acc: 0.8522\n",
      "Epoch 17/20\n",
      "49/49 [==============================] - 2s 33ms/step - loss: 0.1819 - acc: 0.9546 - val_loss: 0.4051 - val_acc: 0.8695\n",
      "Epoch 18/20\n",
      "49/49 [==============================] - 2s 42ms/step - loss: 0.1678 - acc: 0.9640 - val_loss: 0.4215 - val_acc: 0.8654\n",
      "Epoch 19/20\n",
      "49/49 [==============================] - 2s 44ms/step - loss: 0.1712 - acc: 0.9620 - val_loss: 0.4072 - val_acc: 0.8712\n",
      "Epoch 20/20\n",
      "49/49 [==============================] - 2s 50ms/step - loss: 0.1630 - acc: 0.9645 - val_loss: 0.4324 - val_acc: 0.8632\n"
     ]
    }
   ],
   "source": [
    "l2_model_hist = l2_model.fit(x_train, y_train,\n",
    "                             epochs=20,\n",
    "                             batch_size=512,\n",
    "                             validation_data=(x_test, y_test))"
   ]
  },
  {
   "cell_type": "code",
   "execution_count": 16,
   "metadata": {},
   "outputs": [
    {
     "data": {
      "image/png": "[encoded data removed]",
      "text/plain": [
       "<Figure size 432x288 with 1 Axes>"
      ]
     },
     "metadata": {
      "needs_background": "light"
     },
     "output_type": "display_data"
    }
   ],
   "source": [
    "l2_model_val_loss = l2_model_hist.history['val_loss']\n",
    "\n",
    "plt.plot(epochs, original_val_loss, 'b+', label='Original model')\n",
    "plt.plot(epochs, l2_model_val_loss, 'bo', label='L2-regularized model')\n",
    "plt.xlabel('Epochs')\n",
    "plt.ylabel('Validation loss')\n",
    "plt.legend()\n",
    "\n",
    "plt.show()"
   ]
  },
  {
   "cell_type": "code",
   "execution_count": 17,
   "metadata": {},
   "outputs": [],
   "source": [
    "# L1 규제 패널티 방법\n",
    "l1_model = models.Sequential()\n",
    "l1_model.add(layers.Dense(16, kernel_regularizer=regularizers.l1(0.0001),\n",
    "                          activation='relu', input_shape=(10000,)))\n",
    "l1_model.add(layers.Dense(16, kernel_regularizer=regularizers.l1(0.0001),\n",
    "                          activation='relu'))\n",
    "l1_model.add(layers.Dense(1, activation='sigmoid'))\n",
    "\n",
    "l1_model.compile(optimizer='rmsprop',\n",
    "                 loss='binary_crossentropy',\n",
    "                 metrics=['acc'])"
   ]
  },
  {
   "cell_type": "code",
   "execution_count": 18,
   "metadata": {},
   "outputs": [
    {
     "name": "stdout",
     "output_type": "stream",
     "text": [
      "Epoch 1/20\n",
      "49/49 [==============================] - 21s 243ms/step - loss: 0.6864 - acc: 0.7299 - val_loss: 0.4540 - val_acc: 0.8578\n",
      "Epoch 2/20\n",
      "49/49 [==============================] - 2s 39ms/step - loss: 0.3993 - acc: 0.8872 - val_loss: 0.3739 - val_acc: 0.8878\n",
      "Epoch 3/20\n",
      "49/49 [==============================] - 2s 32ms/step - loss: 0.3431 - acc: 0.9031 - val_loss: 0.3605 - val_acc: 0.8885\n",
      "Epoch 4/20\n",
      "49/49 [==============================] - 1s 29ms/step - loss: 0.3170 - acc: 0.9102 - val_loss: 0.3568 - val_acc: 0.8885\n",
      "Epoch 5/20\n",
      "49/49 [==============================] - 1s 31ms/step - loss: 0.3035 - acc: 0.9159 - val_loss: 0.3581 - val_acc: 0.8864\n",
      "Epoch 6/20\n",
      "49/49 [==============================] - 2s 31ms/step - loss: 0.2919 - acc: 0.9227 - val_loss: 0.3593 - val_acc: 0.8867\n",
      "Epoch 7/20\n",
      "49/49 [==============================] - 2s 33ms/step - loss: 0.2864 - acc: 0.9234 - val_loss: 0.3944 - val_acc: 0.8736\n",
      "Epoch 8/20\n",
      "49/49 [==============================] - 1s 30ms/step - loss: 0.2829 - acc: 0.9263 - val_loss: 0.3674 - val_acc: 0.8834\n",
      "Epoch 9/20\n",
      "49/49 [==============================] - 1s 30ms/step - loss: 0.2748 - acc: 0.9296 - val_loss: 0.3737 - val_acc: 0.8812\n",
      "Epoch 10/20\n",
      "49/49 [==============================] - 2s 33ms/step - loss: 0.2739 - acc: 0.9293 - val_loss: 0.4113 - val_acc: 0.8699\n",
      "Epoch 11/20\n",
      "49/49 [==============================] - 2s 31ms/step - loss: 0.2641 - acc: 0.9347 - val_loss: 0.3791 - val_acc: 0.8816\n",
      "Epoch 12/20\n",
      "49/49 [==============================] - 1s 30ms/step - loss: 0.2598 - acc: 0.9353 - val_loss: 0.3799 - val_acc: 0.8817\n",
      "Epoch 13/20\n",
      "49/49 [==============================] - 2s 33ms/step - loss: 0.2502 - acc: 0.9370 - val_loss: 0.3975 - val_acc: 0.8760\n",
      "Epoch 14/20\n",
      "49/49 [==============================] - 2s 32ms/step - loss: 0.2506 - acc: 0.9376 - val_loss: 0.3911 - val_acc: 0.8780\n",
      "Epoch 15/20\n",
      "49/49 [==============================] - 1s 30ms/step - loss: 0.2459 - acc: 0.9398 - val_loss: 0.4283 - val_acc: 0.8678\n",
      "Epoch 16/20\n",
      "49/49 [==============================] - 2s 32ms/step - loss: 0.2480 - acc: 0.9391 - val_loss: 0.4065 - val_acc: 0.8752\n",
      "Epoch 17/20\n",
      "49/49 [==============================] - 2s 33ms/step - loss: 0.2400 - acc: 0.9426 - val_loss: 0.4126 - val_acc: 0.8724\n",
      "Epoch 18/20\n",
      "49/49 [==============================] - 1s 30ms/step - loss: 0.2421 - acc: 0.9412 - val_loss: 0.4160 - val_acc: 0.8731\n",
      "Epoch 19/20\n",
      "49/49 [==============================] - 1s 31ms/step - loss: 0.2370 - acc: 0.9436 - val_loss: 0.4091 - val_acc: 0.8745\n",
      "Epoch 20/20\n",
      "49/49 [==============================] - 2s 31ms/step - loss: 0.2340 - acc: 0.9444 - val_loss: 0.4128 - val_acc: 0.8746\n"
     ]
    }
   ],
   "source": [
    "l1_model_hist = l1_model.fit(x_train, y_train,\n",
    "                             epochs=20,\n",
    "                             batch_size=512,\n",
    "                             validation_data=(x_test, y_test))"
   ]
  },
  {
   "cell_type": "code",
   "execution_count": 19,
   "metadata": {},
   "outputs": [
    {
     "data": {
      "image/png": "[encoded data removed]",
      "text/plain": [
       "<Figure size 432x288 with 1 Axes>"
      ]
     },
     "metadata": {
      "needs_background": "light"
     },
     "output_type": "display_data"
    }
   ],
   "source": [
    "l1_model_val_loss = l1_model_hist.history['val_loss']\n",
    "\n",
    "plt.plot(epochs, original_val_loss, 'b+', label='Original model')\n",
    "plt.plot(epochs, l1_model_val_loss, 'bo', label='L1-regularized model')\n",
    "plt.xlabel('Epochs')\n",
    "plt.ylabel('Validation loss')\n",
    "plt.legend()\n",
    "\n",
    "plt.show()"
   ]
  },
  {
   "cell_type": "code",
   "execution_count": 20,
   "metadata": {},
   "outputs": [],
   "source": [
    "# L1, L2 비교\n",
    "l1l2_model = models.Sequential()\n",
    "l1l2_model.add(layers.Dense(16, kernel_regularizer=regularizers.l1_l2(l1=0.0001, l2=0.0001),\n",
    "                            activation='relu', input_shape=(10000,)))\n",
    "l1l2_model.add(layers.Dense(16, kernel_regularizer=regularizers.l1_l2(l1=0.0001, l2=0.0001),\n",
    "                            activation='relu'))\n",
    "l1l2_model.add(layers.Dense(1, activation='sigmoid'))\n",
    "\n",
    "l1l2_model.compile(optimizer='rmsprop',\n",
    "                   loss='binary_crossentropy',\n",
    "                   metrics=['acc'])"
   ]
  },
  {
   "cell_type": "code",
   "execution_count": 21,
   "metadata": {},
   "outputs": [
    {
     "name": "stdout",
     "output_type": "stream",
     "text": [
      "Epoch 1/20\n",
      "49/49 [==============================] - 22s 381ms/step - loss: 0.6932 - acc: 0.7355 - val_loss: 0.4443 - val_acc: 0.8761\n",
      "Epoch 2/20\n",
      "49/49 [==============================] - 2s 40ms/step - loss: 0.3972 - acc: 0.8942 - val_loss: 0.4011 - val_acc: 0.8713\n",
      "Epoch 3/20\n",
      "49/49 [==============================] - 2s 42ms/step - loss: 0.3453 - acc: 0.9012 - val_loss: 0.3761 - val_acc: 0.8787\n",
      "Epoch 4/20\n",
      "49/49 [==============================] - 2s 41ms/step - loss: 0.3209 - acc: 0.9099 - val_loss: 0.3819 - val_acc: 0.8766\n",
      "Epoch 5/20\n",
      "49/49 [==============================] - 2s 42ms/step - loss: 0.3097 - acc: 0.9155 - val_loss: 0.3612 - val_acc: 0.8866\n",
      "Epoch 6/20\n",
      "49/49 [==============================] - 2s 42ms/step - loss: 0.2985 - acc: 0.9220 - val_loss: 0.3634 - val_acc: 0.8865\n",
      "Epoch 7/20\n",
      "49/49 [==============================] - 2s 40ms/step - loss: 0.2944 - acc: 0.9212 - val_loss: 0.3664 - val_acc: 0.8833\n",
      "Epoch 8/20\n",
      "49/49 [==============================] - 2s 41ms/step - loss: 0.2867 - acc: 0.9243 - val_loss: 0.3870 - val_acc: 0.8781\n",
      "Epoch 9/20\n",
      "49/49 [==============================] - 2s 45ms/step - loss: 0.2865 - acc: 0.9236 - val_loss: 0.3710 - val_acc: 0.8836\n",
      "Epoch 10/20\n",
      "49/49 [==============================] - 2s 44ms/step - loss: 0.2805 - acc: 0.9267 - val_loss: 0.3722 - val_acc: 0.8840\n",
      "Epoch 11/20\n",
      "49/49 [==============================] - 2s 39ms/step - loss: 0.2702 - acc: 0.9315 - val_loss: 0.3914 - val_acc: 0.8767\n",
      "Epoch 12/20\n",
      "49/49 [==============================] - 2s 43ms/step - loss: 0.2709 - acc: 0.9316 - val_loss: 0.3873 - val_acc: 0.8754\n",
      "Epoch 13/20\n",
      "49/49 [==============================] - 2s 44ms/step - loss: 0.2620 - acc: 0.9352 - val_loss: 0.3834 - val_acc: 0.8771\n",
      "Epoch 14/20\n",
      "49/49 [==============================] - 2s 41ms/step - loss: 0.2608 - acc: 0.9359 - val_loss: 0.3896 - val_acc: 0.8792\n",
      "Epoch 15/20\n",
      "49/49 [==============================] - 2s 35ms/step - loss: 0.2546 - acc: 0.9337 - val_loss: 0.3830 - val_acc: 0.8803\n",
      "Epoch 16/20\n",
      "49/49 [==============================] - 2s 44ms/step - loss: 0.2531 - acc: 0.9394 - val_loss: 0.3849 - val_acc: 0.8805\n",
      "Epoch 17/20\n",
      "49/49 [==============================] - 2s 42ms/step - loss: 0.2528 - acc: 0.9362 - val_loss: 0.3887 - val_acc: 0.8793\n",
      "Epoch 18/20\n",
      "49/49 [==============================] - 2s 44ms/step - loss: 0.2419 - acc: 0.9438 - val_loss: 0.3943 - val_acc: 0.8762\n",
      "Epoch 19/20\n",
      "49/49 [==============================] - 2s 42ms/step - loss: 0.2411 - acc: 0.9411 - val_loss: 0.4122 - val_acc: 0.8746\n",
      "Epoch 20/20\n",
      "49/49 [==============================] - 2s 45ms/step - loss: 0.2325 - acc: 0.9467 - val_loss: 0.3988 - val_acc: 0.8755\n"
     ]
    }
   ],
   "source": [
    "l1l2_model_hist = l1l2_model.fit(x_train, y_train,\n",
    "                                 epochs=20,\n",
    "                                 batch_size=512,\n",
    "                                 validation_data=(x_test, y_test))"
   ]
  },
  {
   "cell_type": "code",
   "execution_count": 22,
   "metadata": {},
   "outputs": [
    {
     "data": {
      "image/png": "[encoded data removed]",
      "text/plain": [
       "<Figure size 432x288 with 1 Axes>"
      ]
     },
     "metadata": {
      "needs_background": "light"
     },
     "output_type": "display_data"
    }
   ],
   "source": [
    "l1l2_model_val_loss = l1l2_model_hist.history['val_loss']\n",
    "\n",
    "plt.plot(epochs, original_val_loss, 'b+', label='Original model')\n",
    "plt.plot(epochs, l1l2_model_val_loss, 'bo', label='L1,L2-regularized model')\n",
    "plt.xlabel('Epochs')\n",
    "plt.ylabel('Validation loss')\n",
    "plt.legend()\n",
    "\n",
    "plt.show()"
   ]
  },
  {
   "cell_type": "code",
   "execution_count": 24,
   "metadata": {},
   "outputs": [],
   "source": [
    "#드롭아웃\n",
    "\n",
    "dpt_model = models.Sequential()\n",
    "dpt_model.add(layers.Dense(16, activation='relu', input_shape=(10000,)))\n",
    "dpt_model.add(layers.Dropout(0.5))\n",
    "dpt_model.add(layers.Dense(16, activation='relu'))\n",
    "dpt_model.add(layers.Dropout(0.5))\n",
    "dpt_model.add(layers.Dense(1, activation='sigmoid'))\n",
    "\n",
    "dpt_model.compile(optimizer='rmsprop',\n",
    "                  loss='binary_crossentropy',\n",
    "                  metrics=['acc'])"
   ]
  },
  {
   "cell_type": "code",
   "execution_count": 25,
   "metadata": {},
   "outputs": [
    {
     "name": "stdout",
     "output_type": "stream",
     "text": [
      "Epoch 1/20\n",
      "49/49 [==============================] - 21s 383ms/step - loss: 0.6365 - acc: 0.6270 - val_loss: 0.4446 - val_acc: 0.8669\n",
      "Epoch 2/20\n",
      "49/49 [==============================] - 2s 42ms/step - loss: 0.4682 - acc: 0.7863 - val_loss: 0.3462 - val_acc: 0.8817\n",
      "Epoch 3/20\n",
      "49/49 [==============================] - 2s 41ms/step - loss: 0.3753 - acc: 0.8568 - val_loss: 0.2965 - val_acc: 0.8889\n",
      "Epoch 4/20\n",
      "49/49 [==============================] - 2s 45ms/step - loss: 0.3157 - acc: 0.8857 - val_loss: 0.2818 - val_acc: 0.8898\n",
      "Epoch 5/20\n",
      "49/49 [==============================] - 2s 40ms/step - loss: 0.2837 - acc: 0.9060 - val_loss: 0.2813 - val_acc: 0.8898\n",
      "Epoch 6/20\n",
      "49/49 [==============================] - 2s 45ms/step - loss: 0.2458 - acc: 0.9221 - val_loss: 0.2908 - val_acc: 0.8894\n",
      "Epoch 7/20\n",
      "49/49 [==============================] - 2s 39ms/step - loss: 0.2222 - acc: 0.9279 - val_loss: 0.3045 - val_acc: 0.8876\n",
      "Epoch 8/20\n",
      "49/49 [==============================] - 2s 44ms/step - loss: 0.2072 - acc: 0.9307 - val_loss: 0.3309 - val_acc: 0.8852\n",
      "Epoch 9/20\n",
      "49/49 [==============================] - 2s 38ms/step - loss: 0.1872 - acc: 0.9381 - val_loss: 0.3320 - val_acc: 0.8847\n",
      "Epoch 10/20\n",
      "49/49 [==============================] - 2s 41ms/step - loss: 0.1788 - acc: 0.9429 - val_loss: 0.3473 - val_acc: 0.8817\n",
      "Epoch 11/20\n",
      "49/49 [==============================] - 2s 42ms/step - loss: 0.1652 - acc: 0.9459 - val_loss: 0.3742 - val_acc: 0.8805\n",
      "Epoch 12/20\n",
      "49/49 [==============================] - 2s 39ms/step - loss: 0.1641 - acc: 0.9477 - val_loss: 0.4014 - val_acc: 0.8811\n",
      "Epoch 13/20\n",
      "49/49 [==============================] - 2s 45ms/step - loss: 0.1429 - acc: 0.9533 - val_loss: 0.4201 - val_acc: 0.8789\n",
      "Epoch 14/20\n",
      "49/49 [==============================] - 2s 43ms/step - loss: 0.1436 - acc: 0.9509 - val_loss: 0.4476 - val_acc: 0.8778\n",
      "Epoch 15/20\n",
      "49/49 [==============================] - 2s 44ms/step - loss: 0.1364 - acc: 0.9556 - val_loss: 0.4422 - val_acc: 0.8739\n",
      "Epoch 16/20\n",
      "49/49 [==============================] - 2s 45ms/step - loss: 0.1343 - acc: 0.9549 - val_loss: 0.4854 - val_acc: 0.8766\n",
      "Epoch 17/20\n",
      "49/49 [==============================] - 2s 51ms/step - loss: 0.1297 - acc: 0.9555 - val_loss: 0.4956 - val_acc: 0.8738\n",
      "Epoch 18/20\n",
      "49/49 [==============================] - 2s 44ms/step - loss: 0.1220 - acc: 0.9574 - val_loss: 0.5082 - val_acc: 0.8700\n",
      "Epoch 19/20\n",
      "49/49 [==============================] - 2s 49ms/step - loss: 0.1277 - acc: 0.9573 - val_loss: 0.5606 - val_acc: 0.8750: 0.1286 - acc: 0.\n",
      "Epoch 20/20\n",
      "49/49 [==============================] - 2s 39ms/step - loss: 0.1205 - acc: 0.9578 - val_loss: 0.5588 - val_acc: 0.8735\n"
     ]
    }
   ],
   "source": [
    "dpt_model_hist = dpt_model.fit(x_train, y_train,\n",
    "                               epochs=20,\n",
    "                               batch_size=512,\n",
    "                               validation_data=(x_test, y_test))"
   ]
  },
  {
   "cell_type": "code",
   "execution_count": 26,
   "metadata": {},
   "outputs": [
    {
     "data": {
      "image/png": "[encoded data removed]",
      "text/plain": [
       "<Figure size 432x288 with 1 Axes>"
      ]
     },
     "metadata": {
      "needs_background": "light"
     },
     "output_type": "display_data"
    }
   ],
   "source": [
    "dpt_model_val_loss = dpt_model_hist.history['val_loss']\n",
    "\n",
    "plt.plot(epochs, original_val_loss, 'b+', label='Original model')\n",
    "plt.plot(epochs, dpt_model_val_loss, 'bo', label='Dropout-regularized model')\n",
    "plt.xlabel('Epochs')\n",
    "plt.ylabel('Validation loss')\n",
    "plt.legend()\n",
    "\n",
    "plt.show()"
   ]
  },
  {
   "cell_type": "code",
   "execution_count": null,
   "metadata": {},
   "outputs": [],
   "source": []
  }
 ],
 "metadata": {
  "kernelspec": {
   "display_name": "Python 3",
   "language": "python",
   "name": "python3"
  },
  "language_info": {
   "codemirror_mode": {
    "name": "ipython",
    "version": 3
   },
   "file_extension": ".py",
   "mimetype": "text/x-python",
   "name": "python",
   "nbconvert_exporter": "python",
   "pygments_lexer": "ipython3",
   "version": "3.8.5"
  }
 },
 "nbformat": 4,
 "nbformat_minor": 4
}
