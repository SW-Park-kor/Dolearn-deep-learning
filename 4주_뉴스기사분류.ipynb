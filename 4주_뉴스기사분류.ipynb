{
 "cells": [
  {
   "cell_type": "code",
   "execution_count": 1,
   "metadata": {},
   "outputs": [
    {
     "name": "stdout",
     "output_type": "stream",
     "text": [
      "Downloading data from https://storage.googleapis.com/tensorflow/tf-keras-datasets/reuters.npz\n",
      "2113536/2110848 [==============================] - 0s 0us/step\n"
     ]
    },
    {
     "name": "stderr",
     "output_type": "stream",
     "text": [
      "C:\\Users\\Woody\\anaconda3\\lib\\site-packages\\tensorflow\\python\\keras\\datasets\\reuters.py:148: VisibleDeprecationWarning: Creating an ndarray from ragged nested sequences (which is a list-or-tuple of lists-or-tuples-or ndarrays with different lengths or shapes) is deprecated. If you meant to do this, you must specify 'dtype=object' when creating the ndarray\n",
      "  x_train, y_train = np.array(xs[:idx]), np.array(labels[:idx])\n",
      "C:\\Users\\Woody\\anaconda3\\lib\\site-packages\\tensorflow\\python\\keras\\datasets\\reuters.py:149: VisibleDeprecationWarning: Creating an ndarray from ragged nested sequences (which is a list-or-tuple of lists-or-tuples-or ndarrays with different lengths or shapes) is deprecated. If you meant to do this, you must specify 'dtype=object' when creating the ndarray\n",
      "  x_test, y_test = np.array(xs[idx:]), np.array(labels[idx:])\n"
     ]
    }
   ],
   "source": [
    "from keras.datasets import reuters\n",
    "\n",
    "(train_data, train_labels), (test_data, test_labels) = reuters.load_data(num_words=10000)"
   ]
  },
  {
   "cell_type": "code",
   "execution_count": 3,
   "metadata": {},
   "outputs": [
    {
     "name": "stdout",
     "output_type": "stream",
     "text": [
      "8982\n",
      "2246\n"
     ]
    }
   ],
   "source": [
    "print(len(train_data))\n",
    "print(len(test_data))"
   ]
  },
  {
   "cell_type": "code",
   "execution_count": 4,
   "metadata": {},
   "outputs": [
    {
     "name": "stdout",
     "output_type": "stream",
     "text": [
      "Downloading data from https://storage.googleapis.com/tensorflow/tf-keras-datasets/reuters_word_index.json\n",
      "557056/550378 [==============================] - 0s 0us/step\n"
     ]
    }
   ],
   "source": [
    "word_index = reuters.get_word_index()\n",
    "reverse_word_index = dict([(value, key) for (key, value) in word_index.items()])\n",
    "\n",
    "decoded_newswire = ' '.join([reverse_word_index.get(i - 3, '?') for i in train_data[0]])"
   ]
  },
  {
   "cell_type": "code",
   "execution_count": 5,
   "metadata": {},
   "outputs": [
    {
     "data": {
      "text/plain": [
       "'? ? ? said as a result of its december acquisition of space co it expects earnings per share in 1987 of 1 15 to 1 30 dlrs per share up from 70 cts in 1986 the company said pretax net should rise to nine to 10 mln dlrs from six mln dlrs in 1986 and rental operation revenues to 19 to 22 mln dlrs from 12 5 mln dlrs it said cash flow per share this year should be 2 50 to three dlrs reuter 3'"
      ]
     },
     "execution_count": 5,
     "metadata": {},
     "output_type": "execute_result"
    }
   ],
   "source": [
    "decoded_newswire"
   ]
  },
  {
   "cell_type": "code",
   "execution_count": 6,
   "metadata": {},
   "outputs": [
    {
     "data": {
      "text/plain": [
       "3"
      ]
     },
     "execution_count": 6,
     "metadata": {},
     "output_type": "execute_result"
    }
   ],
   "source": [
    "train_labels[10] #10번째 기사는 3번토픽에 해당"
   ]
  },
  {
   "cell_type": "code",
   "execution_count": 7,
   "metadata": {},
   "outputs": [],
   "source": [
    "import numpy as np\n",
    "\n",
    "def vectorize_sequences(sequences, dimension=10000):\n",
    "    results = np.zeros((len(sequences), dimension))\n",
    "    for i, sequence in enumerate(sequences):\n",
    "        results[i, sequence] = 1.\n",
    "    return results\n",
    "\n",
    "x_train = vectorize_sequences(train_data)\n",
    "x_test = vectorize_sequences(test_data)"
   ]
  },
  {
   "cell_type": "code",
   "execution_count": 8,
   "metadata": {},
   "outputs": [],
   "source": [
    "def to_one_hot(labels, dimension=46): #인덱스만 1이고 나머진 모두 0\n",
    "    results = np.zeros((len(labels), dimension))\n",
    "    for i, label in enumerate(labels):\n",
    "        results[i, label] = 1.\n",
    "    return results\n",
    "\n",
    "one_hot_train_labels = to_one_hot(train_labels)\n",
    "one_hot_test_labels = to_one_hot(test_labels)"
   ]
  },
  {
   "cell_type": "code",
   "execution_count": 9,
   "metadata": {},
   "outputs": [],
   "source": [
    "#위의 셀과 같은 효과를 주는 keras내장함수\n",
    "from keras.utils.np_utils import to_categorical\n",
    "\n",
    "one_hot_train_labels = to_categorical(train_labels)\n",
    "one_hot_test_labels = to_categorical(test_labels)"
   ]
  },
  {
   "cell_type": "code",
   "execution_count": 10,
   "metadata": {},
   "outputs": [],
   "source": [
    "from keras import models\n",
    "from keras import layers\n",
    "\n",
    "model = models.Sequential()\n",
    "model.add(layers.Dense(64, activation='relu', input_shape=(10000,)))\n",
    "model.add(layers.Dense(64, activation='relu'))\n",
    "model.add(layers.Dense(46, activation='softmax'))"
   ]
  },
  {
   "cell_type": "code",
   "execution_count": 11,
   "metadata": {},
   "outputs": [],
   "source": [
    "model.compile(optimizer='rmsprop',\n",
    "              loss='categorical_crossentropy',\n",
    "              metrics=['accuracy'])"
   ]
  },
  {
   "cell_type": "code",
   "execution_count": 12,
   "metadata": {},
   "outputs": [],
   "source": [
    "#훈련검증\n",
    "\n",
    "x_val = x_train[:1000]\n",
    "partial_x_train = x_train[1000:]\n",
    "\n",
    "y_val = one_hot_train_labels[:1000]\n",
    "partial_y_train = one_hot_train_labels[1000:]"
   ]
  },
  {
   "cell_type": "code",
   "execution_count": 13,
   "metadata": {},
   "outputs": [
    {
     "name": "stdout",
     "output_type": "stream",
     "text": [
      "Epoch 1/20\n",
      "16/16 [==============================] - 7s 328ms/step - loss: 3.0330 - accuracy: 0.3547 - val_loss: 1.6972 - val_accuracy: 0.6540\n",
      "Epoch 2/20\n",
      "16/16 [==============================] - 1s 64ms/step - loss: 1.4687 - accuracy: 0.6969 - val_loss: 1.2758 - val_accuracy: 0.7160\n",
      "Epoch 3/20\n",
      "16/16 [==============================] - 1s 76ms/step - loss: 1.0448 - accuracy: 0.7750 - val_loss: 1.1215 - val_accuracy: 0.7550\n",
      "Epoch 4/20\n",
      "16/16 [==============================] - 1s 60ms/step - loss: 0.8304 - accuracy: 0.8249 - val_loss: 1.0262 - val_accuracy: 0.7850\n",
      "Epoch 5/20\n",
      "16/16 [==============================] - 1s 54ms/step - loss: 0.6715 - accuracy: 0.8645 - val_loss: 0.9970 - val_accuracy: 0.8000\n",
      "Epoch 6/20\n",
      "16/16 [==============================] - 1s 60ms/step - loss: 0.5210 - accuracy: 0.8949 - val_loss: 0.9581 - val_accuracy: 0.8070\n",
      "Epoch 7/20\n",
      "16/16 [==============================] - 1s 81ms/step - loss: 0.4217 - accuracy: 0.9125 - val_loss: 0.9059 - val_accuracy: 0.8130\n",
      "Epoch 8/20\n",
      "16/16 [==============================] - 1s 64ms/step - loss: 0.3465 - accuracy: 0.9267 - val_loss: 0.8975 - val_accuracy: 0.8130\n",
      "Epoch 9/20\n",
      "16/16 [==============================] - 1s 58ms/step - loss: 0.2697 - accuracy: 0.9425 - val_loss: 0.9039 - val_accuracy: 0.8090\n",
      "Epoch 10/20\n",
      "16/16 [==============================] - 1s 74ms/step - loss: 0.2384 - accuracy: 0.9491 - val_loss: 0.9638 - val_accuracy: 0.8010\n",
      "Epoch 11/20\n",
      "16/16 [==============================] - 1s 68ms/step - loss: 0.2042 - accuracy: 0.9498 - val_loss: 0.9891 - val_accuracy: 0.8020\n",
      "Epoch 12/20\n",
      "16/16 [==============================] - 1s 73ms/step - loss: 0.1740 - accuracy: 0.9573 - val_loss: 0.9438 - val_accuracy: 0.8140\n",
      "Epoch 13/20\n",
      "16/16 [==============================] - 1s 57ms/step - loss: 0.1594 - accuracy: 0.9580 - val_loss: 0.9572 - val_accuracy: 0.8140\n",
      "Epoch 14/20\n",
      "16/16 [==============================] - 1s 56ms/step - loss: 0.1429 - accuracy: 0.9613 - val_loss: 0.9778 - val_accuracy: 0.8060\n",
      "Epoch 15/20\n",
      "16/16 [==============================] - 1s 63ms/step - loss: 0.1354 - accuracy: 0.9570 - val_loss: 1.0110 - val_accuracy: 0.8040\n",
      "Epoch 16/20\n",
      "16/16 [==============================] - 1s 49ms/step - loss: 0.1198 - accuracy: 0.9620 - val_loss: 1.0217 - val_accuracy: 0.8070\n",
      "Epoch 17/20\n",
      "16/16 [==============================] - 1s 74ms/step - loss: 0.1195 - accuracy: 0.9620 - val_loss: 1.0632 - val_accuracy: 0.8030\n",
      "Epoch 18/20\n",
      "16/16 [==============================] - 1s 55ms/step - loss: 0.1088 - accuracy: 0.9610 - val_loss: 1.0962 - val_accuracy: 0.8030\n",
      "Epoch 19/20\n",
      "16/16 [==============================] - 1s 61ms/step - loss: 0.1123 - accuracy: 0.9615 - val_loss: 1.0948 - val_accuracy: 0.8050\n",
      "Epoch 20/20\n",
      "16/16 [==============================] - 1s 54ms/step - loss: 0.0964 - accuracy: 0.9655 - val_loss: 1.0842 - val_accuracy: 0.8040\n"
     ]
    }
   ],
   "source": [
    "history = model.fit(partial_x_train,\n",
    "                    partial_y_train,\n",
    "                    epochs=20,\n",
    "                    batch_size=512,\n",
    "                    validation_data=(x_val, y_val))"
   ]
  },
  {
   "cell_type": "code",
   "execution_count": 14,
   "metadata": {},
   "outputs": [
    {
     "data": {
      "image/png": "[encoded data removed]",
      "text/plain": [
       "<Figure size 432x288 with 1 Axes>"
      ]
     },
     "metadata": {
      "needs_background": "light"
     },
     "output_type": "display_data"
    }
   ],
   "source": [
    "import matplotlib.pyplot as plt\n",
    "\n",
    "loss = history.history['loss']\n",
    "val_loss = history.history['val_loss']\n",
    "\n",
    "epochs = range(1, len(loss) + 1)\n",
    "\n",
    "plt.plot(epochs, loss, 'bo', label='Training loss')\n",
    "plt.plot(epochs, val_loss, 'b', label='Validation loss')\n",
    "plt.title('Training and validation loss')\n",
    "plt.xlabel('Epochs')\n",
    "plt.ylabel('Loss')\n",
    "plt.legend()\n",
    "\n",
    "plt.show()"
   ]
  },
  {
   "cell_type": "code",
   "execution_count": 16,
   "metadata": {},
   "outputs": [
    {
     "data": {
      "image/png": "[encoded data removed]",
      "text/plain": [
       "<Figure size 432x288 with 1 Axes>"
      ]
     },
     "metadata": {
      "needs_background": "light"
     },
     "output_type": "display_data"
    }
   ],
   "source": [
    "plt.clf()   # 그래프를 초기화합니다\n",
    "\n",
    "acc = history.history['accuracy']\n",
    "val_acc = history.history['val_accuracy']\n",
    "\n",
    "plt.plot(epochs, acc, 'bo', label='Training acc')\n",
    "plt.plot(epochs, val_acc, 'b', label='Validation acc')\n",
    "plt.title('Training and validation accuracy')\n",
    "plt.xlabel('Epochs')\n",
    "plt.ylabel('Accuracy')\n",
    "plt.legend()\n",
    "\n",
    "plt.show()"
   ]
  },
  {
   "cell_type": "code",
   "execution_count": 17,
   "metadata": {},
   "outputs": [
    {
     "name": "stdout",
     "output_type": "stream",
     "text": [
      "Epoch 1/9\n",
      "16/16 [==============================] - 4s 101ms/step - loss: 3.6611 - accuracy: 0.3968 - val_loss: 3.2928 - val_accuracy: 0.6250\n",
      "Epoch 2/9\n",
      "16/16 [==============================] - 1s 81ms/step - loss: 3.1174 - accuracy: 0.6850 - val_loss: 2.7270 - val_accuracy: 0.6030\n",
      "Epoch 3/9\n",
      "16/16 [==============================] - 1s 60ms/step - loss: 2.4644 - accuracy: 0.6861 - val_loss: 2.0904 - val_accuracy: 0.6240\n",
      "Epoch 4/9\n",
      "16/16 [==============================] - 1s 57ms/step - loss: 1.8250 - accuracy: 0.6951 - val_loss: 1.6857 - val_accuracy: 0.6430\n",
      "Epoch 5/9\n",
      "16/16 [==============================] - 1s 58ms/step - loss: 1.4062 - accuracy: 0.7100 - val_loss: 1.4878 - val_accuracy: 0.6630\n",
      "Epoch 6/9\n",
      "16/16 [==============================] - 1s 54ms/step - loss: 1.1588 - accuracy: 0.7396 - val_loss: 1.3974 - val_accuracy: 0.6640\n",
      "Epoch 7/9\n",
      "16/16 [==============================] - 1s 64ms/step - loss: 1.0066 - accuracy: 0.7508 - val_loss: 1.3441 - val_accuracy: 0.7100\n",
      "Epoch 8/9\n",
      "16/16 [==============================] - 1s 67ms/step - loss: 0.8434 - accuracy: 0.8080 - val_loss: 1.2594 - val_accuracy: 0.7360\n",
      "Epoch 9/9\n",
      "16/16 [==============================] - 1s 52ms/step - loss: 0.7367 - accuracy: 0.8477 - val_loss: 1.2698 - val_accuracy: 0.7410\n",
      "71/71 [==============================] - 0s 4ms/step - loss: 1.3436 - accuracy: 0.7355\n"
     ]
    }
   ],
   "source": [
    "#과대적합 조정을 위해 에포크를 9로 줄이고 재훈련\n",
    "model.add(layers.Dense(64, activation='relu', input_shape=(10000,)))\n",
    "model.add(layers.Dense(64, activation='relu'))\n",
    "model.add(layers.Dense(46, activation='softmax'))\n",
    "\n",
    "model.compile(optimizer='rmsprop',\n",
    "              loss='categorical_crossentropy',\n",
    "              metrics=['accuracy'])\n",
    "model.fit(partial_x_train,\n",
    "          partial_y_train,\n",
    "          epochs=9,\n",
    "          batch_size=512,\n",
    "          validation_data=(x_val, y_val))\n",
    "results = model.evaluate(x_test, one_hot_test_labels)"
   ]
  },
  {
   "cell_type": "code",
   "execution_count": 18,
   "metadata": {},
   "outputs": [
    {
     "data": {
      "text/plain": [
       "[1.343592882156372, 0.7355298399925232]"
      ]
     },
     "execution_count": 18,
     "metadata": {},
     "output_type": "execute_result"
    }
   ],
   "source": [
    "results"
   ]
  },
  {
   "cell_type": "code",
   "execution_count": 19,
   "metadata": {},
   "outputs": [
    {
     "data": {
      "text/plain": [
       "0.19545859305431879"
      ]
     },
     "execution_count": 19,
     "metadata": {},
     "output_type": "execute_result"
    }
   ],
   "source": [
    "import copy\n",
    "\n",
    "test_labels_copy = copy.copy(test_labels)\n",
    "np.random.shuffle(test_labels_copy)\n",
    "float(np.sum(np.array(test_labels) == np.array(test_labels_copy))) / len(test_labels)"
   ]
  },
  {
   "cell_type": "code",
   "execution_count": 20,
   "metadata": {},
   "outputs": [],
   "source": [
    "predictions = model.predict(x_test)"
   ]
  },
  {
   "cell_type": "code",
   "execution_count": 21,
   "metadata": {},
   "outputs": [],
   "source": [
    "y_train = np.array(train_labels)\n",
    "y_test = np.array(test_labels)"
   ]
  },
  {
   "cell_type": "code",
   "execution_count": 22,
   "metadata": {},
   "outputs": [],
   "source": [
    "model.compile(optimizer='rmsprop', loss='sparse_categorical_crossentropy', metrics=['acc'])"
   ]
  },
  {
   "cell_type": "code",
   "execution_count": 23,
   "metadata": {},
   "outputs": [
    {
     "name": "stdout",
     "output_type": "stream",
     "text": [
      "Epoch 1/20\n",
      "63/63 [==============================] - 4s 32ms/step - loss: 3.3348 - accuracy: 0.2246 - val_loss: 2.4243 - val_accuracy: 0.3670\n",
      "Epoch 2/20\n",
      "63/63 [==============================] - 1s 23ms/step - loss: 2.2368 - accuracy: 0.3942 - val_loss: 1.9650 - val_accuracy: 0.4130\n",
      "Epoch 3/20\n",
      "63/63 [==============================] - 2s 29ms/step - loss: 1.7697 - accuracy: 0.4516 - val_loss: 1.5652 - val_accuracy: 0.6130\n",
      "Epoch 4/20\n",
      "63/63 [==============================] - 2s 26ms/step - loss: 1.3506 - accuracy: 0.6491 - val_loss: 1.3998 - val_accuracy: 0.6360\n",
      "Epoch 5/20\n",
      "63/63 [==============================] - 2s 25ms/step - loss: 1.1749 - accuracy: 0.6681 - val_loss: 1.3242 - val_accuracy: 0.6590\n",
      "Epoch 6/20\n",
      "63/63 [==============================] - 2s 25ms/step - loss: 1.0009 - accuracy: 0.7181 - val_loss: 1.2931 - val_accuracy: 0.6880\n",
      "Epoch 7/20\n",
      "63/63 [==============================] - 1s 22ms/step - loss: 0.9118 - accuracy: 0.7606 - val_loss: 1.2787 - val_accuracy: 0.7010\n",
      "Epoch 8/20\n",
      "63/63 [==============================] - 1s 22ms/step - loss: 0.8405 - accuracy: 0.7715 - val_loss: 1.2931 - val_accuracy: 0.7050\n",
      "Epoch 9/20\n",
      "63/63 [==============================] - 2s 27ms/step - loss: 0.7642 - accuracy: 0.7953 - val_loss: 1.3091 - val_accuracy: 0.7030\n",
      "Epoch 10/20\n",
      "63/63 [==============================] - 1s 21ms/step - loss: 0.6819 - accuracy: 0.8124 - val_loss: 1.3309 - val_accuracy: 0.7070\n",
      "Epoch 11/20\n",
      "63/63 [==============================] - 1s 23ms/step - loss: 0.6370 - accuracy: 0.8297 - val_loss: 1.3536 - val_accuracy: 0.7140\n",
      "Epoch 12/20\n",
      "63/63 [==============================] - 2s 24ms/step - loss: 0.6200 - accuracy: 0.8340 - val_loss: 1.3875 - val_accuracy: 0.7170\n",
      "Epoch 13/20\n",
      "63/63 [==============================] - 1s 23ms/step - loss: 0.5434 - accuracy: 0.8547 - val_loss: 1.4447 - val_accuracy: 0.7060\n",
      "Epoch 14/20\n",
      "63/63 [==============================] - 1s 23ms/step - loss: 0.5409 - accuracy: 0.8580 - val_loss: 1.4706 - val_accuracy: 0.7090\n",
      "Epoch 15/20\n",
      "63/63 [==============================] - 2s 25ms/step - loss: 0.4904 - accuracy: 0.8741 - val_loss: 1.5260 - val_accuracy: 0.7080\n",
      "Epoch 16/20\n",
      "63/63 [==============================] - 1s 22ms/step - loss: 0.4670 - accuracy: 0.8785 - val_loss: 1.5799 - val_accuracy: 0.7130\n",
      "Epoch 17/20\n",
      "63/63 [==============================] - 2s 24ms/step - loss: 0.4523 - accuracy: 0.8819 - val_loss: 1.6506 - val_accuracy: 0.7060 0s - los\n",
      "Epoch 18/20\n",
      "63/63 [==============================] - 2s 25ms/step - loss: 0.4019 - accuracy: 0.8932 - val_loss: 1.6856 - val_accuracy: 0.7180\n",
      "Epoch 19/20\n",
      "63/63 [==============================] - 1s 22ms/step - loss: 0.4003 - accuracy: 0.8913 - val_loss: 1.7043 - val_accuracy: 0.7130\n",
      "Epoch 20/20\n",
      "63/63 [==============================] - 1s 23ms/step - loss: 0.3857 - accuracy: 0.8926 - val_loss: 1.7980 - val_accuracy: 0.7110\n"
     ]
    },
    {
     "data": {
      "text/plain": [
       "<tensorflow.python.keras.callbacks.History at 0x1a7bde29640>"
      ]
     },
     "execution_count": 23,
     "metadata": {},
     "output_type": "execute_result"
    }
   ],
   "source": [
    "#중간층이 46보다 작으면? 정보의 병목현상 야기\n",
    "\n",
    "model = models.Sequential()\n",
    "model.add(layers.Dense(64, activation='relu', input_shape=(10000,)))\n",
    "model.add(layers.Dense(4, activation='relu'))\n",
    "model.add(layers.Dense(46, activation='softmax'))\n",
    "\n",
    "model.compile(optimizer='rmsprop',\n",
    "              loss='categorical_crossentropy',\n",
    "              metrics=['accuracy'])\n",
    "model.fit(partial_x_train,\n",
    "          partial_y_train,\n",
    "          epochs=20,\n",
    "          batch_size=128,\n",
    "          validation_data=(x_val, y_val))"
   ]
  },
  {
   "cell_type": "code",
   "execution_count": null,
   "metadata": {},
   "outputs": [],
   "source": []
  }
 ],
 "metadata": {
  "kernelspec": {
   "display_name": "Python 3",
   "language": "python",
   "name": "python3"
  },
  "language_info": {
   "codemirror_mode": {
    "name": "ipython",
    "version": 3
   },
   "file_extension": ".py",
   "mimetype": "text/x-python",
   "name": "python",
   "nbconvert_exporter": "python",
   "pygments_lexer": "ipython3",
   "version": "3.8.5"
  }
 },
 "nbformat": 4,
 "nbformat_minor": 4
}
